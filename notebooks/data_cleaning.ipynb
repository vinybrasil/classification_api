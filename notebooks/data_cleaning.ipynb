{
 "cells": [
  {
   "cell_type": "code",
   "execution_count": 1,
   "id": "5b138a0d-4213-49f0-8539-cf6ecceed536",
   "metadata": {},
   "outputs": [],
   "source": [
    "import numpy as np\n",
    "import pandas as pd\n",
    "import matplotlib.pyplot as plt\n",
    "import seaborn as sns"
   ]
  },
  {
   "cell_type": "markdown",
   "id": "85fbe35d-51c4-4d86-87ac-48e781b2521d",
   "metadata": {},
   "source": [
    "# Limpeza dos dados"
   ]
  },
  {
   "cell_type": "code",
   "execution_count": 2,
   "id": "de56abd3-b7da-4c6b-b2a6-a4f77e443d71",
   "metadata": {},
   "outputs": [
    {
     "data": {
      "text/html": [
       "<div>\n",
       "<style scoped>\n",
       "    .dataframe tbody tr th:only-of-type {\n",
       "        vertical-align: middle;\n",
       "    }\n",
       "\n",
       "    .dataframe tbody tr th {\n",
       "        vertical-align: top;\n",
       "    }\n",
       "\n",
       "    .dataframe thead th {\n",
       "        text-align: right;\n",
       "    }\n",
       "</style>\n",
       "<table border=\"1\" class=\"dataframe\">\n",
       "  <thead>\n",
       "    <tr style=\"text-align: right;\">\n",
       "      <th></th>\n",
       "      <th>Prospect ID</th>\n",
       "      <th>Lead Number</th>\n",
       "      <th>Lead Origin</th>\n",
       "      <th>Lead Source</th>\n",
       "      <th>Do Not Email</th>\n",
       "      <th>Do Not Call</th>\n",
       "      <th>Converted</th>\n",
       "      <th>TotalVisits</th>\n",
       "      <th>Total Time Spent on Website</th>\n",
       "      <th>Page Views Per Visit</th>\n",
       "      <th>...</th>\n",
       "      <th>Get updates on DM Content</th>\n",
       "      <th>Lead Profile</th>\n",
       "      <th>City</th>\n",
       "      <th>Asymmetrique Activity Index</th>\n",
       "      <th>Asymmetrique Profile Index</th>\n",
       "      <th>Asymmetrique Activity Score</th>\n",
       "      <th>Asymmetrique Profile Score</th>\n",
       "      <th>I agree to pay the amount through cheque</th>\n",
       "      <th>A free copy of Mastering The Interview</th>\n",
       "      <th>Last Notable Activity</th>\n",
       "    </tr>\n",
       "  </thead>\n",
       "  <tbody>\n",
       "    <tr>\n",
       "      <th>0</th>\n",
       "      <td>7927b2df-8bba-4d29-b9a2-b6e0beafe620</td>\n",
       "      <td>660737</td>\n",
       "      <td>API</td>\n",
       "      <td>Olark Chat</td>\n",
       "      <td>No</td>\n",
       "      <td>No</td>\n",
       "      <td>0</td>\n",
       "      <td>0.0</td>\n",
       "      <td>0</td>\n",
       "      <td>0.0</td>\n",
       "      <td>...</td>\n",
       "      <td>No</td>\n",
       "      <td>Select</td>\n",
       "      <td>Select</td>\n",
       "      <td>02.Medium</td>\n",
       "      <td>02.Medium</td>\n",
       "      <td>15.0</td>\n",
       "      <td>15.0</td>\n",
       "      <td>No</td>\n",
       "      <td>No</td>\n",
       "      <td>Modified</td>\n",
       "    </tr>\n",
       "    <tr>\n",
       "      <th>1</th>\n",
       "      <td>2a272436-5132-4136-86fa-dcc88c88f482</td>\n",
       "      <td>660728</td>\n",
       "      <td>API</td>\n",
       "      <td>Organic Search</td>\n",
       "      <td>No</td>\n",
       "      <td>No</td>\n",
       "      <td>0</td>\n",
       "      <td>5.0</td>\n",
       "      <td>674</td>\n",
       "      <td>2.5</td>\n",
       "      <td>...</td>\n",
       "      <td>No</td>\n",
       "      <td>Select</td>\n",
       "      <td>Select</td>\n",
       "      <td>02.Medium</td>\n",
       "      <td>02.Medium</td>\n",
       "      <td>15.0</td>\n",
       "      <td>15.0</td>\n",
       "      <td>No</td>\n",
       "      <td>No</td>\n",
       "      <td>Email Opened</td>\n",
       "    </tr>\n",
       "    <tr>\n",
       "      <th>2</th>\n",
       "      <td>8cc8c611-a219-4f35-ad23-fdfd2656bd8a</td>\n",
       "      <td>660727</td>\n",
       "      <td>Landing Page Submission</td>\n",
       "      <td>Direct Traffic</td>\n",
       "      <td>No</td>\n",
       "      <td>No</td>\n",
       "      <td>1</td>\n",
       "      <td>2.0</td>\n",
       "      <td>1532</td>\n",
       "      <td>2.0</td>\n",
       "      <td>...</td>\n",
       "      <td>No</td>\n",
       "      <td>Potential Lead</td>\n",
       "      <td>Mumbai</td>\n",
       "      <td>02.Medium</td>\n",
       "      <td>01.High</td>\n",
       "      <td>14.0</td>\n",
       "      <td>20.0</td>\n",
       "      <td>No</td>\n",
       "      <td>Yes</td>\n",
       "      <td>Email Opened</td>\n",
       "    </tr>\n",
       "    <tr>\n",
       "      <th>3</th>\n",
       "      <td>0cc2df48-7cf4-4e39-9de9-19797f9b38cc</td>\n",
       "      <td>660719</td>\n",
       "      <td>Landing Page Submission</td>\n",
       "      <td>Direct Traffic</td>\n",
       "      <td>No</td>\n",
       "      <td>No</td>\n",
       "      <td>0</td>\n",
       "      <td>1.0</td>\n",
       "      <td>305</td>\n",
       "      <td>1.0</td>\n",
       "      <td>...</td>\n",
       "      <td>No</td>\n",
       "      <td>Select</td>\n",
       "      <td>Mumbai</td>\n",
       "      <td>02.Medium</td>\n",
       "      <td>01.High</td>\n",
       "      <td>13.0</td>\n",
       "      <td>17.0</td>\n",
       "      <td>No</td>\n",
       "      <td>No</td>\n",
       "      <td>Modified</td>\n",
       "    </tr>\n",
       "    <tr>\n",
       "      <th>4</th>\n",
       "      <td>3256f628-e534-4826-9d63-4a8b88782852</td>\n",
       "      <td>660681</td>\n",
       "      <td>Landing Page Submission</td>\n",
       "      <td>Google</td>\n",
       "      <td>No</td>\n",
       "      <td>No</td>\n",
       "      <td>1</td>\n",
       "      <td>2.0</td>\n",
       "      <td>1428</td>\n",
       "      <td>1.0</td>\n",
       "      <td>...</td>\n",
       "      <td>No</td>\n",
       "      <td>Select</td>\n",
       "      <td>Mumbai</td>\n",
       "      <td>02.Medium</td>\n",
       "      <td>01.High</td>\n",
       "      <td>15.0</td>\n",
       "      <td>18.0</td>\n",
       "      <td>No</td>\n",
       "      <td>No</td>\n",
       "      <td>Modified</td>\n",
       "    </tr>\n",
       "  </tbody>\n",
       "</table>\n",
       "<p>5 rows × 37 columns</p>\n",
       "</div>"
      ],
      "text/plain": [
       "                            Prospect ID  Lead Number              Lead Origin  \\\n",
       "0  7927b2df-8bba-4d29-b9a2-b6e0beafe620       660737                      API   \n",
       "1  2a272436-5132-4136-86fa-dcc88c88f482       660728                      API   \n",
       "2  8cc8c611-a219-4f35-ad23-fdfd2656bd8a       660727  Landing Page Submission   \n",
       "3  0cc2df48-7cf4-4e39-9de9-19797f9b38cc       660719  Landing Page Submission   \n",
       "4  3256f628-e534-4826-9d63-4a8b88782852       660681  Landing Page Submission   \n",
       "\n",
       "      Lead Source Do Not Email Do Not Call  Converted  TotalVisits  \\\n",
       "0      Olark Chat           No          No          0          0.0   \n",
       "1  Organic Search           No          No          0          5.0   \n",
       "2  Direct Traffic           No          No          1          2.0   \n",
       "3  Direct Traffic           No          No          0          1.0   \n",
       "4          Google           No          No          1          2.0   \n",
       "\n",
       "   Total Time Spent on Website  Page Views Per Visit  ...  \\\n",
       "0                            0                   0.0  ...   \n",
       "1                          674                   2.5  ...   \n",
       "2                         1532                   2.0  ...   \n",
       "3                          305                   1.0  ...   \n",
       "4                         1428                   1.0  ...   \n",
       "\n",
       "  Get updates on DM Content    Lead Profile    City  \\\n",
       "0                        No          Select  Select   \n",
       "1                        No          Select  Select   \n",
       "2                        No  Potential Lead  Mumbai   \n",
       "3                        No          Select  Mumbai   \n",
       "4                        No          Select  Mumbai   \n",
       "\n",
       "  Asymmetrique Activity Index Asymmetrique Profile Index  \\\n",
       "0                   02.Medium                  02.Medium   \n",
       "1                   02.Medium                  02.Medium   \n",
       "2                   02.Medium                    01.High   \n",
       "3                   02.Medium                    01.High   \n",
       "4                   02.Medium                    01.High   \n",
       "\n",
       "  Asymmetrique Activity Score Asymmetrique Profile Score  \\\n",
       "0                        15.0                       15.0   \n",
       "1                        15.0                       15.0   \n",
       "2                        14.0                       20.0   \n",
       "3                        13.0                       17.0   \n",
       "4                        15.0                       18.0   \n",
       "\n",
       "  I agree to pay the amount through cheque  \\\n",
       "0                                       No   \n",
       "1                                       No   \n",
       "2                                       No   \n",
       "3                                       No   \n",
       "4                                       No   \n",
       "\n",
       "  A free copy of Mastering The Interview Last Notable Activity  \n",
       "0                                     No              Modified  \n",
       "1                                     No          Email Opened  \n",
       "2                                    Yes          Email Opened  \n",
       "3                                     No              Modified  \n",
       "4                                     No              Modified  \n",
       "\n",
       "[5 rows x 37 columns]"
      ]
     },
     "execution_count": 2,
     "metadata": {},
     "output_type": "execute_result"
    }
   ],
   "source": [
    "leads = pd.read_csv(\"data/lead_scoring.csv\", sep=';', skiprows=1 )\n",
    "leads = leads.reset_index(drop=True)\n",
    "leads.head()"
   ]
  },
  {
   "cell_type": "code",
   "execution_count": 3,
   "id": "2c4f76da-65ef-4c68-919a-d0586f9106c8",
   "metadata": {},
   "outputs": [
    {
     "data": {
      "text/html": [
       "<div>\n",
       "<style scoped>\n",
       "    .dataframe tbody tr th:only-of-type {\n",
       "        vertical-align: middle;\n",
       "    }\n",
       "\n",
       "    .dataframe tbody tr th {\n",
       "        vertical-align: top;\n",
       "    }\n",
       "\n",
       "    .dataframe thead th {\n",
       "        text-align: right;\n",
       "    }\n",
       "</style>\n",
       "<table border=\"1\" class=\"dataframe\">\n",
       "  <thead>\n",
       "    <tr style=\"text-align: right;\">\n",
       "      <th></th>\n",
       "      <th>prospect_id</th>\n",
       "      <th>lead_number</th>\n",
       "      <th>converted</th>\n",
       "    </tr>\n",
       "  </thead>\n",
       "  <tbody>\n",
       "    <tr>\n",
       "      <th>0</th>\n",
       "      <td>7927b2df-8bba-4d29-b9a2-b6e0beafe620</td>\n",
       "      <td>660737</td>\n",
       "      <td>0</td>\n",
       "    </tr>\n",
       "    <tr>\n",
       "      <th>1</th>\n",
       "      <td>2a272436-5132-4136-86fa-dcc88c88f482</td>\n",
       "      <td>660728</td>\n",
       "      <td>0</td>\n",
       "    </tr>\n",
       "    <tr>\n",
       "      <th>2</th>\n",
       "      <td>8cc8c611-a219-4f35-ad23-fdfd2656bd8a</td>\n",
       "      <td>660727</td>\n",
       "      <td>1</td>\n",
       "    </tr>\n",
       "    <tr>\n",
       "      <th>3</th>\n",
       "      <td>0cc2df48-7cf4-4e39-9de9-19797f9b38cc</td>\n",
       "      <td>660719</td>\n",
       "      <td>0</td>\n",
       "    </tr>\n",
       "    <tr>\n",
       "      <th>4</th>\n",
       "      <td>3256f628-e534-4826-9d63-4a8b88782852</td>\n",
       "      <td>660681</td>\n",
       "      <td>1</td>\n",
       "    </tr>\n",
       "  </tbody>\n",
       "</table>\n",
       "</div>"
      ],
      "text/plain": [
       "                            prospect_id  lead_number  converted\n",
       "0  7927b2df-8bba-4d29-b9a2-b6e0beafe620       660737          0\n",
       "1  2a272436-5132-4136-86fa-dcc88c88f482       660728          0\n",
       "2  8cc8c611-a219-4f35-ad23-fdfd2656bd8a       660727          1\n",
       "3  0cc2df48-7cf4-4e39-9de9-19797f9b38cc       660719          0\n",
       "4  3256f628-e534-4826-9d63-4a8b88782852       660681          1"
      ]
     },
     "execution_count": 3,
     "metadata": {},
     "output_type": "execute_result"
    }
   ],
   "source": [
    "leads_cleaned = leads[['Prospect ID','Lead Number', 'Converted']].copy()\n",
    "leads_cleaned.columns = ['prospect_id', 'lead_number', 'converted']\n",
    "leads_cleaned.head()"
   ]
  },
  {
   "cell_type": "code",
   "execution_count": 4,
   "id": "257f84c0-d6d8-497d-bfdf-deb4b3cd213b",
   "metadata": {},
   "outputs": [
    {
     "name": "stdout",
     "output_type": "stream",
     "text": [
      "<class 'pandas.core.frame.DataFrame'>\n",
      "RangeIndex: 9240 entries, 0 to 9239\n",
      "Data columns (total 37 columns):\n",
      " #   Column                                         Non-Null Count  Dtype  \n",
      "---  ------                                         --------------  -----  \n",
      " 0   Prospect ID                                    9240 non-null   object \n",
      " 1   Lead Number                                    9240 non-null   int64  \n",
      " 2   Lead Origin                                    9240 non-null   object \n",
      " 3   Lead Source                                    9204 non-null   object \n",
      " 4   Do Not Email                                   9240 non-null   object \n",
      " 5   Do Not Call                                    9240 non-null   object \n",
      " 6   Converted                                      9240 non-null   int64  \n",
      " 7   TotalVisits                                    9103 non-null   float64\n",
      " 8   Total Time Spent on Website                    9240 non-null   int64  \n",
      " 9   Page Views Per Visit                           9103 non-null   float64\n",
      " 10  Last Activity                                  9137 non-null   object \n",
      " 11  Country                                        6779 non-null   object \n",
      " 12  Specialization                                 7802 non-null   object \n",
      " 13  How did you hear about X Education             7033 non-null   object \n",
      " 14  What is your current occupation                6550 non-null   object \n",
      " 15  What matters most to you in choosing a course  6531 non-null   object \n",
      " 16  Search                                         9240 non-null   object \n",
      " 17  Magazine                                       9240 non-null   object \n",
      " 18  Newspaper Article                              9240 non-null   object \n",
      " 19  X Education Forums                             9240 non-null   object \n",
      " 20  Newspaper                                      9240 non-null   object \n",
      " 21  Digital Advertisement                          9240 non-null   object \n",
      " 22  Through Recommendations                        9240 non-null   object \n",
      " 23  Receive More Updates About Our Courses         9240 non-null   object \n",
      " 24  Tags                                           5887 non-null   object \n",
      " 25  Lead Quality                                   4473 non-null   object \n",
      " 26  Update me on Supply Chain Content              9240 non-null   object \n",
      " 27  Get updates on DM Content                      9240 non-null   object \n",
      " 28  Lead Profile                                   6531 non-null   object \n",
      " 29  City                                           7820 non-null   object \n",
      " 30  Asymmetrique Activity Index                    5022 non-null   object \n",
      " 31  Asymmetrique Profile Index                     5022 non-null   object \n",
      " 32  Asymmetrique Activity Score                    5022 non-null   float64\n",
      " 33  Asymmetrique Profile Score                     5022 non-null   float64\n",
      " 34  I agree to pay the amount through cheque       9240 non-null   object \n",
      " 35  A free copy of Mastering The Interview         9240 non-null   object \n",
      " 36  Last Notable Activity                          9240 non-null   object \n",
      "dtypes: float64(4), int64(3), object(30)\n",
      "memory usage: 2.6+ MB\n"
     ]
    }
   ],
   "source": [
    "leads.info()"
   ]
  },
  {
   "cell_type": "code",
   "execution_count": 5,
   "id": "7081c6cb-320f-4ba8-9493-b8daff48d302",
   "metadata": {},
   "outputs": [
    {
     "data": {
      "text/plain": [
       "Prospect ID                                         0\n",
       "Lead Number                                         0\n",
       "Lead Origin                                         0\n",
       "Lead Source                                        36\n",
       "Do Not Email                                        0\n",
       "Do Not Call                                         0\n",
       "Converted                                           0\n",
       "TotalVisits                                       137\n",
       "Total Time Spent on Website                         0\n",
       "Page Views Per Visit                              137\n",
       "Last Activity                                     103\n",
       "Country                                          2461\n",
       "Specialization                                   1438\n",
       "How did you hear about X Education               2207\n",
       "What is your current occupation                  2690\n",
       "What matters most to you in choosing a course    2709\n",
       "Search                                              0\n",
       "Magazine                                            0\n",
       "Newspaper Article                                   0\n",
       "X Education Forums                                  0\n",
       "Newspaper                                           0\n",
       "Digital Advertisement                               0\n",
       "Through Recommendations                             0\n",
       "Receive More Updates About Our Courses              0\n",
       "Tags                                             3353\n",
       "Lead Quality                                     4767\n",
       "Update me on Supply Chain Content                   0\n",
       "Get updates on DM Content                           0\n",
       "Lead Profile                                     2709\n",
       "City                                             1420\n",
       "Asymmetrique Activity Index                      4218\n",
       "Asymmetrique Profile Index                       4218\n",
       "Asymmetrique Activity Score                      4218\n",
       "Asymmetrique Profile Score                       4218\n",
       "I agree to pay the amount through cheque            0\n",
       "A free copy of Mastering The Interview              0\n",
       "Last Notable Activity                               0\n",
       "dtype: int64"
      ]
     },
     "execution_count": 5,
     "metadata": {},
     "output_type": "execute_result"
    }
   ],
   "source": [
    "leads.isnull().sum()"
   ]
  },
  {
   "cell_type": "code",
   "execution_count": 6,
   "id": "5ac56b19-82ff-456c-bb67-009c24a1b621",
   "metadata": {},
   "outputs": [],
   "source": [
    "def replace_rare_labels(series, threshold=300):\n",
    "  counts = series.value_counts()\n",
    "  rare_labels = counts[counts < threshold].index.tolist()\n",
    "  return series.replace(rare_labels, 'others')"
   ]
  },
  {
   "cell_type": "markdown",
   "id": "fd0c50cc-5cfd-4237-9a48-2634d05250cc",
   "metadata": {},
   "source": [
    "## Variáveis numéricas"
   ]
  },
  {
   "cell_type": "code",
   "execution_count": 7,
   "id": "48411bfe-dad3-47c1-9dda-a5b69f7316b0",
   "metadata": {},
   "outputs": [],
   "source": [
    "leads_cleaned['total_visits'] = leads['TotalVisits'].fillna(leads['TotalVisits'].median())"
   ]
  },
  {
   "cell_type": "code",
   "execution_count": 8,
   "id": "5a5c53e3-9008-4548-a638-bbc59871e57c",
   "metadata": {},
   "outputs": [],
   "source": [
    "leads_cleaned['total_time_spent_on_website'] = leads['Total Time Spent on Website']"
   ]
  },
  {
   "cell_type": "code",
   "execution_count": 9,
   "id": "b522162b-ae91-4f78-b144-c33a155a4558",
   "metadata": {},
   "outputs": [],
   "source": [
    "leads_cleaned['page_views_per_visit'] =  leads['Page Views Per Visit'].fillna(leads['Page Views Per Visit'].mean())"
   ]
  },
  {
   "cell_type": "markdown",
   "id": "3fec11a5-9771-4976-8059-27c4b97ff684",
   "metadata": {},
   "source": [
    "## Variáveis categóricas"
   ]
  },
  {
   "cell_type": "code",
   "execution_count": 10,
   "id": "1aa3d25d-94df-4f6d-bdf4-d66bb69206b4",
   "metadata": {},
   "outputs": [],
   "source": [
    "leads_origin = leads['Lead Origin'].fillna('unknown').apply(lambda x: x.lower().replace(' ', '_'))\n",
    "leads_cleaned['lead_origin'] = replace_rare_labels(leads_origin)"
   ]
  },
  {
   "cell_type": "code",
   "execution_count": 11,
   "id": "4cc4d4bd-517a-43c1-a4fd-bba6eb26b46f",
   "metadata": {},
   "outputs": [],
   "source": [
    "leads_source = leads['Lead Source'].fillna('unknown').apply(lambda x: x.lower().replace(' ', '_'))\n",
    "leads_cleaned['lead_source'] = replace_rare_labels(leads_source)"
   ]
  },
  {
   "cell_type": "code",
   "execution_count": 12,
   "id": "e70ea25c-425e-4e67-9519-3aa20a754385",
   "metadata": {},
   "outputs": [],
   "source": [
    "leads_cleaned['last_activity'] =  replace_rare_labels(leads['Last Activity'].fillna('unknown').apply(lambda x: x.lower().replace(' ', '_')))"
   ]
  },
  {
   "cell_type": "code",
   "execution_count": 13,
   "id": "8d735997-8104-466a-9ef0-7c3462fdb59b",
   "metadata": {},
   "outputs": [],
   "source": [
    "leads_cleaned['country'] = replace_rare_labels(leads['Country'].fillna('unknown').apply(lambda x: x.lower().replace(' ', '_')))"
   ]
  },
  {
   "cell_type": "code",
   "execution_count": 14,
   "id": "db5a224d-9bf2-4887-be65-4eb413a9b3b0",
   "metadata": {},
   "outputs": [],
   "source": [
    "specialization = leads['Specialization'].replace('Select', 'unknown').fillna('unknown').apply(lambda x: x.lower().replace(' ', '_'))\n",
    "leads_cleaned['specialization'] = replace_rare_labels(specialization)"
   ]
  },
  {
   "cell_type": "code",
   "execution_count": 15,
   "id": "5f6b2305-4a04-4f01-88e8-35c559937de3",
   "metadata": {},
   "outputs": [],
   "source": [
    "heard = leads['How did you hear about X Education'].fillna('unknown').apply(lambda x: x.lower().replace(' ', '_'))\n",
    "leads_cleaned['how_did_you_hear_about_x_education'] = replace_rare_labels(heard)"
   ]
  },
  {
   "cell_type": "code",
   "execution_count": 16,
   "id": "9dfb91c1-00f1-423d-ae63-8308649febaf",
   "metadata": {},
   "outputs": [],
   "source": [
    "occupation = leads['What is your current occupation'].fillna('unknown').apply(lambda x: x.lower().replace(' ', '_'))\n",
    "leads_cleaned['occupation'] = replace_rare_labels(occupation)"
   ]
  },
  {
   "cell_type": "code",
   "execution_count": 17,
   "id": "aa02b1f4-3646-40c8-b6fd-d9216a929313",
   "metadata": {},
   "outputs": [],
   "source": [
    "importance = leads['What matters most to you in choosing a course'].fillna('unknown').apply(lambda x: x.lower().replace(' ', '_'))\n",
    "leads_cleaned['what_matters_most_to_you_in_choosing_a_course'] = replace_rare_labels(importance)"
   ]
  },
  {
   "cell_type": "code",
   "execution_count": 18,
   "id": "f59cdf6f-74f4-4d21-a51b-ecf2f33a51cf",
   "metadata": {},
   "outputs": [],
   "source": [
    "cities = leads['City'].fillna('unknown').apply(lambda x: x.lower().replace(' ', '_').replace('&', 'and'))\n",
    "leads_cleaned['city'] = replace_rare_labels(cities)"
   ]
  },
  {
   "cell_type": "code",
   "execution_count": 19,
   "id": "6fc4e435-8a1b-49ef-b018-e3672a08032b",
   "metadata": {},
   "outputs": [],
   "source": [
    "last_activity = leads['Last Notable Activity'].apply(lambda x: x.lower().replace(' ', '_'))\n",
    "leads_cleaned['last_notable_activity'] = replace_rare_labels(last_activity)"
   ]
  },
  {
   "cell_type": "code",
   "execution_count": 20,
   "id": "bb18936c-542e-4ef5-9377-54879b55f259",
   "metadata": {},
   "outputs": [],
   "source": [
    "leads_cleaned['free_copy'] = leads['A free copy of Mastering The Interview'].apply(lambda x: x.lower().replace(' ', '_')).apply(lambda x: 1 if x =='yes' else 0)"
   ]
  },
  {
   "cell_type": "markdown",
   "id": "f1b0414f-0544-4f2b-bda3-644aa2941a65",
   "metadata": {},
   "source": [
    "## Variáveis binárias"
   ]
  },
  {
   "cell_type": "code",
   "execution_count": 21,
   "id": "e4adb596-22cc-4041-8c94-df535c89a91d",
   "metadata": {},
   "outputs": [],
   "source": [
    "leads_cleaned['do_not_email'] = leads['Do Not Email'].apply(lambda x: x.lower().replace(' ', '_')).apply(lambda x: 1 if x =='yes' else 0)"
   ]
  },
  {
   "cell_type": "code",
   "execution_count": 22,
   "id": "a1584a5e-fdf5-4b10-bb47-d1cac409e9a4",
   "metadata": {},
   "outputs": [],
   "source": [
    "leads_cleaned['do_not_call'] = leads['Do Not Call'].apply(lambda x: x.lower().replace(' ', '_')).apply(lambda x: 1 if x =='yes' else 0)"
   ]
  },
  {
   "cell_type": "markdown",
   "id": "029da96a-367e-4959-beca-73cf25addd1b",
   "metadata": {},
   "source": [
    "## Conjunto final de dados"
   ]
  },
  {
   "cell_type": "code",
   "execution_count": 23,
   "id": "9abaf3f4-0694-4a9b-8293-b58c868a76ca",
   "metadata": {},
   "outputs": [
    {
     "data": {
      "text/html": [
       "<div>\n",
       "<style scoped>\n",
       "    .dataframe tbody tr th:only-of-type {\n",
       "        vertical-align: middle;\n",
       "    }\n",
       "\n",
       "    .dataframe tbody tr th {\n",
       "        vertical-align: top;\n",
       "    }\n",
       "\n",
       "    .dataframe thead th {\n",
       "        text-align: right;\n",
       "    }\n",
       "</style>\n",
       "<table border=\"1\" class=\"dataframe\">\n",
       "  <thead>\n",
       "    <tr style=\"text-align: right;\">\n",
       "      <th></th>\n",
       "      <th>prospect_id</th>\n",
       "      <th>lead_number</th>\n",
       "      <th>converted</th>\n",
       "      <th>total_visits</th>\n",
       "      <th>total_time_spent_on_website</th>\n",
       "      <th>page_views_per_visit</th>\n",
       "      <th>lead_origin</th>\n",
       "      <th>lead_source</th>\n",
       "      <th>last_activity</th>\n",
       "      <th>country</th>\n",
       "      <th>specialization</th>\n",
       "      <th>how_did_you_hear_about_x_education</th>\n",
       "      <th>occupation</th>\n",
       "      <th>what_matters_most_to_you_in_choosing_a_course</th>\n",
       "      <th>city</th>\n",
       "      <th>last_notable_activity</th>\n",
       "      <th>free_copy</th>\n",
       "      <th>do_not_email</th>\n",
       "      <th>do_not_call</th>\n",
       "    </tr>\n",
       "  </thead>\n",
       "  <tbody>\n",
       "    <tr>\n",
       "      <th>0</th>\n",
       "      <td>7927b2df-8bba-4d29-b9a2-b6e0beafe620</td>\n",
       "      <td>660737</td>\n",
       "      <td>0</td>\n",
       "      <td>0.0</td>\n",
       "      <td>0</td>\n",
       "      <td>0.0</td>\n",
       "      <td>api</td>\n",
       "      <td>olark_chat</td>\n",
       "      <td>page_visited_on_website</td>\n",
       "      <td>unknown</td>\n",
       "      <td>unknown</td>\n",
       "      <td>select</td>\n",
       "      <td>unemployed</td>\n",
       "      <td>better_career_prospects</td>\n",
       "      <td>select</td>\n",
       "      <td>modified</td>\n",
       "      <td>0</td>\n",
       "      <td>0</td>\n",
       "      <td>0</td>\n",
       "    </tr>\n",
       "    <tr>\n",
       "      <th>1</th>\n",
       "      <td>2a272436-5132-4136-86fa-dcc88c88f482</td>\n",
       "      <td>660728</td>\n",
       "      <td>0</td>\n",
       "      <td>5.0</td>\n",
       "      <td>674</td>\n",
       "      <td>2.5</td>\n",
       "      <td>api</td>\n",
       "      <td>organic_search</td>\n",
       "      <td>email_opened</td>\n",
       "      <td>india</td>\n",
       "      <td>unknown</td>\n",
       "      <td>select</td>\n",
       "      <td>unemployed</td>\n",
       "      <td>better_career_prospects</td>\n",
       "      <td>select</td>\n",
       "      <td>email_opened</td>\n",
       "      <td>0</td>\n",
       "      <td>0</td>\n",
       "      <td>0</td>\n",
       "    </tr>\n",
       "    <tr>\n",
       "      <th>2</th>\n",
       "      <td>8cc8c611-a219-4f35-ad23-fdfd2656bd8a</td>\n",
       "      <td>660727</td>\n",
       "      <td>1</td>\n",
       "      <td>2.0</td>\n",
       "      <td>1532</td>\n",
       "      <td>2.0</td>\n",
       "      <td>landing_page_submission</td>\n",
       "      <td>direct_traffic</td>\n",
       "      <td>email_opened</td>\n",
       "      <td>india</td>\n",
       "      <td>business_administration</td>\n",
       "      <td>select</td>\n",
       "      <td>others</td>\n",
       "      <td>better_career_prospects</td>\n",
       "      <td>mumbai</td>\n",
       "      <td>email_opened</td>\n",
       "      <td>1</td>\n",
       "      <td>0</td>\n",
       "      <td>0</td>\n",
       "    </tr>\n",
       "    <tr>\n",
       "      <th>3</th>\n",
       "      <td>0cc2df48-7cf4-4e39-9de9-19797f9b38cc</td>\n",
       "      <td>660719</td>\n",
       "      <td>0</td>\n",
       "      <td>1.0</td>\n",
       "      <td>305</td>\n",
       "      <td>1.0</td>\n",
       "      <td>landing_page_submission</td>\n",
       "      <td>direct_traffic</td>\n",
       "      <td>others</td>\n",
       "      <td>india</td>\n",
       "      <td>others</td>\n",
       "      <td>word_of_mouth</td>\n",
       "      <td>unemployed</td>\n",
       "      <td>better_career_prospects</td>\n",
       "      <td>mumbai</td>\n",
       "      <td>modified</td>\n",
       "      <td>0</td>\n",
       "      <td>0</td>\n",
       "      <td>0</td>\n",
       "    </tr>\n",
       "    <tr>\n",
       "      <th>4</th>\n",
       "      <td>3256f628-e534-4826-9d63-4a8b88782852</td>\n",
       "      <td>660681</td>\n",
       "      <td>1</td>\n",
       "      <td>2.0</td>\n",
       "      <td>1428</td>\n",
       "      <td>1.0</td>\n",
       "      <td>landing_page_submission</td>\n",
       "      <td>google</td>\n",
       "      <td>converted_to_lead</td>\n",
       "      <td>india</td>\n",
       "      <td>unknown</td>\n",
       "      <td>others</td>\n",
       "      <td>unemployed</td>\n",
       "      <td>better_career_prospects</td>\n",
       "      <td>mumbai</td>\n",
       "      <td>modified</td>\n",
       "      <td>0</td>\n",
       "      <td>0</td>\n",
       "      <td>0</td>\n",
       "    </tr>\n",
       "  </tbody>\n",
       "</table>\n",
       "</div>"
      ],
      "text/plain": [
       "                            prospect_id  lead_number  converted  total_visits  \\\n",
       "0  7927b2df-8bba-4d29-b9a2-b6e0beafe620       660737          0           0.0   \n",
       "1  2a272436-5132-4136-86fa-dcc88c88f482       660728          0           5.0   \n",
       "2  8cc8c611-a219-4f35-ad23-fdfd2656bd8a       660727          1           2.0   \n",
       "3  0cc2df48-7cf4-4e39-9de9-19797f9b38cc       660719          0           1.0   \n",
       "4  3256f628-e534-4826-9d63-4a8b88782852       660681          1           2.0   \n",
       "\n",
       "   total_time_spent_on_website  page_views_per_visit              lead_origin  \\\n",
       "0                            0                   0.0                      api   \n",
       "1                          674                   2.5                      api   \n",
       "2                         1532                   2.0  landing_page_submission   \n",
       "3                          305                   1.0  landing_page_submission   \n",
       "4                         1428                   1.0  landing_page_submission   \n",
       "\n",
       "      lead_source            last_activity  country           specialization  \\\n",
       "0      olark_chat  page_visited_on_website  unknown                  unknown   \n",
       "1  organic_search             email_opened    india                  unknown   \n",
       "2  direct_traffic             email_opened    india  business_administration   \n",
       "3  direct_traffic                   others    india                   others   \n",
       "4          google        converted_to_lead    india                  unknown   \n",
       "\n",
       "  how_did_you_hear_about_x_education  occupation  \\\n",
       "0                             select  unemployed   \n",
       "1                             select  unemployed   \n",
       "2                             select      others   \n",
       "3                      word_of_mouth  unemployed   \n",
       "4                             others  unemployed   \n",
       "\n",
       "  what_matters_most_to_you_in_choosing_a_course    city last_notable_activity  \\\n",
       "0                       better_career_prospects  select              modified   \n",
       "1                       better_career_prospects  select          email_opened   \n",
       "2                       better_career_prospects  mumbai          email_opened   \n",
       "3                       better_career_prospects  mumbai              modified   \n",
       "4                       better_career_prospects  mumbai              modified   \n",
       "\n",
       "   free_copy  do_not_email  do_not_call  \n",
       "0          0             0            0  \n",
       "1          0             0            0  \n",
       "2          1             0            0  \n",
       "3          0             0            0  \n",
       "4          0             0            0  "
      ]
     },
     "execution_count": 23,
     "metadata": {},
     "output_type": "execute_result"
    }
   ],
   "source": [
    "leads_cleaned.head()"
   ]
  },
  {
   "cell_type": "code",
   "execution_count": 24,
   "id": "a6089665-22e9-416d-bfce-193413c6eac3",
   "metadata": {},
   "outputs": [],
   "source": [
    "leads_cleaned.to_csv('data/lead_scoring_cleared.csv', index=False)"
   ]
  },
  {
   "cell_type": "markdown",
   "id": "a99dcb79-563f-4516-98fc-069dca871233",
   "metadata": {},
   "source": [
    "<h4> As colunas 'Tags', 'Lead Quality', 'Asymmetrique Activity Index', 'Asymmetrique Profile Index', 'Asymmetrique Activity Score', 'Asymmetrique Profile Score'\n",
    "não serão utilizadas dado seu alto número de dados faltantes. Já as colunas 'Search', 'Magazine',\n",
    "       'Newspaper Article', 'X Education Forums', 'Newspaper',\n",
    "       'Digital Advertisement', 'Through Recommendations',\n",
    "       'Receive More Updates About Our Courses' e 'I agree to pay the amount through cheque' não serão utilizadas dado sua disparidade de quase a \n",
    "       totalidade da classe. </h4>"
   ]
  },
  {
   "cell_type": "markdown",
   "id": "521f95fd-b7b0-4817-b563-07b9e12b8802",
   "metadata": {},
   "source": [
    "# EDA"
   ]
  },
  {
   "cell_type": "code",
   "execution_count": 25,
   "id": "d78f9032-5f0e-41f7-966d-88e4a6682f77",
   "metadata": {},
   "outputs": [
    {
     "data": {
      "text/plain": [
       "(array([4413., 1518.,  477.,  460.,  686.,  713.,  573.,  292.,   89.,\n",
       "          19.]),\n",
       " array([   0. ,  227.2,  454.4,  681.6,  908.8, 1136. , 1363.2, 1590.4,\n",
       "        1817.6, 2044.8, 2272. ]),\n",
       " <BarContainer object of 10 artists>)"
      ]
     },
     "execution_count": 25,
     "metadata": {},
     "output_type": "execute_result"
    },
    {
     "data": {
      "image/png": "[encoded data removed]",
      "text/plain": [
       "<Figure size 640x480 with 1 Axes>"
      ]
     },
     "metadata": {},
     "output_type": "display_data"
    }
   ],
   "source": [
    "plt.hist(leads['Total Time Spent on Website'])"
   ]
  },
  {
   "cell_type": "code",
   "execution_count": 26,
   "id": "ee786cd4-6d35-437f-a4e3-a13d30340193",
   "metadata": {},
   "outputs": [
    {
     "data": {
      "text/plain": [
       "<AxesSubplot: >"
      ]
     },
     "execution_count": 26,
     "metadata": {},
     "output_type": "execute_result"
    },
    {
     "data": {
      "image/png": "[encoded data removed]",
      "text/plain": [
       "<Figure size 640x480 with 1 Axes>"
      ]
     },
     "metadata": {},
     "output_type": "display_data"
    }
   ],
   "source": [
    "sns.boxplot(leads['Total Time Spent on Website'], orient='h')"
   ]
  },
  {
   "cell_type": "code",
   "execution_count": 27,
   "id": "bdd1b204-1bfd-43ea-a822-d23acbfc87fc",
   "metadata": {},
   "outputs": [
    {
     "data": {
      "text/plain": [
       "<AxesSubplot: >"
      ]
     },
     "execution_count": 27,
     "metadata": {},
     "output_type": "execute_result"
    },
    {
     "data": {
      "image/png": "[encoded data removed]",
      "text/plain": [
       "<Figure size 640x480 with 1 Axes>"
      ]
     },
     "metadata": {},
     "output_type": "display_data"
    }
   ],
   "source": [
    "sns.boxplot(leads['TotalVisits'], orient='h')"
   ]
  },
  {
   "cell_type": "code",
   "execution_count": 28,
   "id": "26ff2004-ba03-4686-83f9-112740d4e341",
   "metadata": {},
   "outputs": [
    {
     "data": {
      "image/png": "[encoded data removed]",
      "text/plain": [
       "<Figure size 640x480 with 1 Axes>"
      ]
     },
     "metadata": {},
     "output_type": "display_data"
    }
   ],
   "source": [
    "plt.hist(leads['TotalVisits'], bins=30)\n",
    "plt.show()"
   ]
  },
  {
   "cell_type": "code",
   "execution_count": 29,
   "id": "44bf429b-54ef-4df3-801e-1c8879a23294",
   "metadata": {},
   "outputs": [
    {
     "data": {
      "image/png": "[encoded data removed]",
      "text/plain": [
       "<Figure size 640x480 with 1 Axes>"
      ]
     },
     "metadata": {},
     "output_type": "display_data"
    }
   ],
   "source": [
    "sns.boxplot(leads['Page Views Per Visit'], orient='h')\n",
    "plt.show()"
   ]
  }
 ],
 "metadata": {
  "kernelspec": {
   "display_name": "Python 3 (ipykernel)",
   "language": "python",
   "name": "python3"
  },
  "language_info": {
   "codemirror_mode": {
    "name": "ipython",
    "version": 3
   },
   "file_extension": ".py",
   "mimetype": "text/x-python",
   "name": "python",
   "nbconvert_exporter": "python",
   "pygments_lexer": "ipython3",
   "version": "3.8.16"
  }
 },
 "nbformat": 4,
 "nbformat_minor": 5
}
